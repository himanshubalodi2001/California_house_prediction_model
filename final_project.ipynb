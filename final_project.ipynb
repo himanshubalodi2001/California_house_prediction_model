{
 "cells": [
  {
   "cell_type": "code",
   "execution_count": 3,
   "id": "c946d004-8a01-4533-922e-8d9312a2ead6",
   "metadata": {},
   "outputs": [],
   "source": [
    "import os\n",
    "import pandas as pd\n",
    "import numpy as np\n",
    "import joblib\n",
    "from sklearn.model_selection import StratifiedShuffleSplit\n",
    "from sklearn.pipeline import Pipeline\n",
    "from sklearn.compose import ColumnTransformer\n",
    "from sklearn.impute import SimpleImputer\n",
    "from sklearn.preprocessing import StandardScaler, OneHotEncoder\n",
    "from sklearn.ensemble import RandomForestRegressor\n"
   ]
  },
  {
   "cell_type": "code",
   "execution_count": 4,
   "id": "da2df5a9-5631-4ed2-8162-35604fb00dca",
   "metadata": {},
   "outputs": [],
   "source": [
    "MODEL_FILE = \"model.pkl\"\n",
    "PIPELINE_FILE = \"pipeline.pkl\"\n"
   ]
  },
  {
   "cell_type": "code",
   "execution_count": 5,
   "id": "71d2485d-0100-4bbc-bb20-92f00bb45841",
   "metadata": {},
   "outputs": [],
   "source": [
    "def build_pipeline(num_attribs, cat_attribs):\n",
    "    num_pipeline = Pipeline([\n",
    "        (\"imputer\", SimpleImputer(strategy=\"median\")),\n",
    "        (\"scaler\", StandardScaler())\n",
    "    ])\n",
    "    cat_pipeline = Pipeline([\n",
    "        (\"onehot\", OneHotEncoder(handle_unknown=\"ignore\"))\n",
    "    ])\n",
    "    full_pipeline = ColumnTransformer([\n",
    "        (\"num\", num_pipeline, num_attribs),\n",
    "        (\"cat\", cat_pipeline, cat_attribs)\n",
    "    ])\n",
    "    return full_pipeline"
   ]
  },
  {
   "cell_type": "code",
   "execution_count": 8,
   "id": "ee645cd6-8ca4-489d-94ee-5a3fffc672f5",
   "metadata": {},
   "outputs": [
    {
     "name": "stdout",
     "output_type": "stream",
     "text": [
      "Inference complete. Results saved to output.csv\n"
     ]
    }
   ],
   "source": [
    "if not os.path.exists(MODEL_FILE):\n",
    "    housing = pd.read_csv(\"housing.csv\")\n",
    "    housing['income_cat'] = pd.cut(housing[\"median_income\"],\n",
    "    bins=[0.0, 1.5, 3.0, 4.5, 6.0, np.inf],\n",
    "    labels=[1, 2, 3, 4, 5]) \n",
    "    split = StratifiedShuffleSplit(n_splits=1, test_size=0.2, random_state=42)\n",
    "    for train_index,test_index in split.split(housing, housing['income_cat']):\n",
    "        housing.loc[test_index].drop(['income_cat','median_house_value'],axis=1).to_csv('input.csv',index=False)\n",
    "        housing = housing.loc[train_index].drop(\"income_cat\", axis=1)\n",
    "        \n",
    "    housing_labels = housing[\"median_house_value\"].copy()\n",
    "    housing_features = housing.drop(\"median_house_value\", axis=1)\n",
    "    num_attribs = housing_features.drop(\"ocean_proximity\", axis=1).columns.tolist()\n",
    "    cat_attribs = [\"ocean_proximity\"]\n",
    "    pipeline = build_pipeline(num_attribs, cat_attribs)\n",
    "    housing_prepared = pipeline.fit_transform(housing_features)\n",
    "    model = RandomForestRegressor(random_state=42)\n",
    "    model.fit(housing_prepared, housing_labels)\n",
    "    # Save model and pipeline\n",
    "    joblib.dump(model, MODEL_FILE)\n",
    "    joblib.dump(pipeline, PIPELINE_FILE)\n",
    "    print(\"Model trained and saved.\")\n",
    "else:\n",
    "    # INFERENCE PHASE\n",
    "    model = joblib.load(MODEL_FILE)\n",
    "    pipeline = joblib.load(PIPELINE_FILE)\n",
    " \n",
    "    input_data = pd.read_csv(\"input.csv\")\n",
    "    transformed_input = pipeline.transform(input_data)\n",
    "    predictions = model.predict(transformed_input)\n",
    "    input_data[\"median_house_value\"] = predictions\n",
    " \n",
    "    input_data.to_csv(\"output.csv\", index=False)\n",
    "    print(\"Inference complete. Results saved to output.csv\")\n",
    "\n"
   ]
  },
  {
   "cell_type": "code",
   "execution_count": null,
   "id": "09fc206b-ddfc-4ccb-9f7f-79251a4a13b1",
   "metadata": {},
   "outputs": [],
   "source": []
  },
  {
   "cell_type": "code",
   "execution_count": null,
   "id": "821ea5c2-0283-46f7-bed6-c66c3782d9b1",
   "metadata": {},
   "outputs": [],
   "source": []
  }
 ],
 "metadata": {
  "kernelspec": {
   "display_name": "Python 3 (ipykernel)",
   "language": "python",
   "name": "python3"
  },
  "language_info": {
   "codemirror_mode": {
    "name": "ipython",
    "version": 3
   },
   "file_extension": ".py",
   "mimetype": "text/x-python",
   "name": "python",
   "nbconvert_exporter": "python",
   "pygments_lexer": "ipython3",
   "version": "3.12.7"
  }
 },
 "nbformat": 4,
 "nbformat_minor": 5
}
